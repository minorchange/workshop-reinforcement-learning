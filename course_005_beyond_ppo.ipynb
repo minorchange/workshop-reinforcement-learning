{
 "cells": [
  {
   "cell_type": "markdown",
   "metadata": {},
   "source": [
    "# What other algos are there and which one should we use in which situation?\n",
    "\n",
    "Have a look at the following [list](https://stable-baselines3.readthedocs.io/en/master/guide/algos.html) to get an overview over the algos available in Stable Baselines3.\n",
    "Note how different algos can cope with different action spaces.\n",
    "This answers part of the question which algo to choose when. The remaining part is way harder to answer as it might depend on the problem at hand. Best to try them to get a feeling :)"
   ]
  }
 ],
 "metadata": {
  "interpreter": {
   "hash": "13f74e600e5db7500a78e4d27f86aa859591adaab4fefda8dd94987a559e0a34"
  },
  "kernelspec": {
   "display_name": "Python 3 (ipykernel)",
   "language": "python",
   "name": "python3"
  },
  "language_info": {
   "codemirror_mode": {
    "name": "ipython",
    "version": 3
   },
   "file_extension": ".py",
   "mimetype": "text/x-python",
   "name": "python",
   "nbconvert_exporter": "python",
   "pygments_lexer": "ipython3",
   "version": "3.7.12"
  }
 },
 "nbformat": 4,
 "nbformat_minor": 4
}
