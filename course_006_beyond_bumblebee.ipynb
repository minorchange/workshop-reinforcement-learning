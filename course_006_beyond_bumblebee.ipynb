{
 "cells": [
  {
   "cell_type": "markdown",
   "metadata": {},
   "source": [
    "# Shortcomings of the Bumblebee example\n",
    "\n",
    "The scenario presented so far was simple. The FlowerField has one possible state (The defined observation_space was a unused dummy variable in order to satisfy gym). This state is not influenced by the actions of the Bumblebee.\n",
    "A more complex environment would have many possible states and the actions of the agent would influence the state. For example the individual flowers would need a certain amount of time to recover after a visit from a bumblebee.\n",
    "We would not be able to deal with more complicated situations with a simple heuristic."
   ]
  }
 ],
 "metadata": {
  "interpreter": {
   "hash": "13f74e600e5db7500a78e4d27f86aa859591adaab4fefda8dd94987a559e0a34"
  },
  "kernelspec": {
   "display_name": "Python 3 (ipykernel)",
   "language": "python",
   "name": "python3"
  },
  "language_info": {
   "codemirror_mode": {
    "name": "ipython",
    "version": 3
   },
   "file_extension": ".py",
   "mimetype": "text/x-python",
   "name": "python",
   "nbconvert_exporter": "python",
   "pygments_lexer": "ipython3",
   "version": "3.7.12"
  }
 },
 "nbformat": 4,
 "nbformat_minor": 4
}
