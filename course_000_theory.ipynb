{
 "cells": [
  {
   "cell_type": "markdown",
   "metadata": {},
   "source": [
    "# Reinforcement Learning"
   ]
  },
  {
   "cell_type": "code",
   "execution_count": 2,
   "metadata": {},
   "outputs": [
    {
     "data": {
      "image/png": "[encoded data removed]",
      "text/plain": [
       "<Figure size 432x288 with 1 Axes>"
      ]
     },
     "metadata": {
      "needs_background": "light"
     },
     "output_type": "display_data"
    }
   ],
   "source": [
    "%matplotlib inline\n",
    "import course_000_Pong"
   ]
  },
  {
   "cell_type": "markdown",
   "metadata": {},
   "source": [
    "### How does it fit in the Machine Learning Landscape?\n",
    "One can divide Machine Learning approaches into 3 categories\n",
    "- **Supervised Learning** aims to learn a mapping from an input to an output based on given input-output pairs.\n",
    "- **Unsupervised Learning** is the domain, where patterns are found from untagged data.\n",
    "- **Reinforcement Learning** is concerned with figuring out a suitable policy for an intelligent agent to take strategic actions in a given environment."
   ]
  },
  {
   "cell_type": "markdown",
   "metadata": {},
   "source": [
    "Learning### Lets Break it down:\n",
    "- What is this intelligent agent?\n",
    "- What does environment mean in this context?\n",
    "- What about the policy?\n",
    "- How is strategy involved?"
   ]
  },
  {
   "cell_type": "markdown",
   "metadata": {},
   "source": [
    "## Agent vs Environment\n",
    "\n",
    "Lets talk about the first 3 questions here. They are way easier to answer."
   ]
  },
  {
   "cell_type": "markdown",
   "metadata": {},
   "source": [
    "<img src=\"imgs/agent_environment_diag.png\" alt=\"Drawing\" style=\"width: 750px;\"/>"
   ]
  },
  {
   "cell_type": "markdown",
   "metadata": {},
   "source": [
    "### The Agent\n",
    "\n",
    "is an entity that can interact with the environment only via a specified set of actions. After each action the agent gets 2 pieces of information from the environment:\n",
    "1. **The Observation** is the state of the environment after the action took effect and\n",
    "2. **A Reward** that the agent is trying to maximize in the long term by choosing its actions accordingly\n"
   ]
  },
  {
   "cell_type": "markdown",
   "metadata": {},
   "source": [
    "### The Environment\n",
    "\n",
    "is the representation of the scenario that the agent has to cope with. It does not need to be deterministic.\n",
    "\n"
   ]
  },
  {
   "cell_type": "markdown",
   "metadata": {},
   "source": [
    "### The Policy\n",
    "\n",
    "The Agent who sees the current Observation comes up with a respective Action according to his Policy."
   ]
  },
  {
   "cell_type": "markdown",
   "metadata": {},
   "source": [
    "## What about Strategy?\n",
    "\n",
    "Example: Suppose you want to teach your algorithm the game of chess. You have to decide how to praise and blame your Agent during training. One way would be to praise the algorithm for a won game and to blame it for a lost game. The agent has the freedom to learn how sacrificing pieces can lead to overall beneficial outcomes. In other words the algorithm can prioritize expected big long term benefits over smaller short term ones."
   ]
  }
 ],
 "metadata": {
  "interpreter": {
   "hash": "13f74e600e5db7500a78e4d27f86aa859591adaab4fefda8dd94987a559e0a34"
  },
  "kernelspec": {
   "display_name": "Python 3 (ipykernel)",
   "language": "python",
   "name": "python3"
  },
  "language_info": {
   "codemirror_mode": {
    "name": "ipython",
    "version": 3
   },
   "file_extension": ".py",
   "mimetype": "text/x-python",
   "name": "python",
   "nbconvert_exporter": "python",
   "pygments_lexer": "ipython3",
   "version": "3.7.12"
  }
 },
 "nbformat": 4,
 "nbformat_minor": 4
}
