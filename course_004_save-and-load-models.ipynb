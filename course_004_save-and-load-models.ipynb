{
 "cells": [
  {
   "cell_type": "markdown",
   "metadata": {},
   "source": [
    "# Save and Load\n",
    "\n",
    "So far we used \"throw away\" models. We traind them, used them and when the session stopped, they were deleted. Of cause we want to be able to use our trained models also after a kernen restart and maybe even continue learning. Lets see how this works."
   ]
  },
  {
   "cell_type": "markdown",
   "metadata": {},
   "source": [
    "### Save"
   ]
  },
  {
   "cell_type": "code",
   "execution_count": 1,
   "metadata": {},
   "outputs": [],
   "source": [
    "import os\n",
    "import gym\n",
    "gym.logger.set_level(40)\n",
    "from stable_baselines3 import PPO\n",
    "from stable_baselines3.common.vec_env import DummyVecEnv\n",
    "from stable_baselines3.common.evaluation import evaluate_policy\n",
    "\n",
    "from course_002_FlowerFieldEnv import FlowerFiledEnv\n",
    "\n",
    "\n",
    "log_path = \"logs\""
   ]
  },
  {
   "cell_type": "code",
   "execution_count": 2,
   "metadata": {},
   "outputs": [
    {
     "name": "stdout",
     "output_type": "stream",
     "text": [
      "Using cpu device\n"
     ]
    }
   ],
   "source": [
    "env = FlowerFiledEnv()\n",
    "env = DummyVecEnv([lambda: env])\n",
    "model = PPO('MlpPolicy', env, verbose = 1, tensorboard_log = log_path)"
   ]
  },
  {
   "cell_type": "code",
   "execution_count": 3,
   "metadata": {},
   "outputs": [
    {
     "name": "stdout",
     "output_type": "stream",
     "text": [
      "Logging to logs/PPO_73\n",
      "-----------------------------\n",
      "| time/              |      |\n",
      "|    fps             | 1078 |\n",
      "|    iterations      | 1    |\n",
      "|    time_elapsed    | 1    |\n",
      "|    total_timesteps | 2048 |\n",
      "-----------------------------\n"
     ]
    },
    {
     "data": {
      "text/plain": [
       "<stable_baselines3.ppo.ppo.PPO at 0x7f453f81bc10>"
      ]
     },
     "execution_count": 3,
     "metadata": {},
     "output_type": "execute_result"
    }
   ],
   "source": [
    "model.learn(total_timesteps=2048)"
   ]
  },
  {
   "cell_type": "code",
   "execution_count": 5,
   "metadata": {},
   "outputs": [
    {
     "name": "stdout",
     "output_type": "stream",
     "text": [
      "(494.53510932922364, 5.517006814536173)\n",
      "(497.9705708503723, 4.93749625931113)\n"
     ]
    }
   ],
   "source": [
    "print(evaluate_policy(model, env, n_eval_episodes=5, render=False))\n",
    "\n",
    "ppo_path = os.path.join(\"models\", \"course_004_ppo\")\n",
    "model.save(ppo_path)\n",
    "del model\n",
    "model = PPO.load(ppo_path, env=env)\n",
    "\n",
    "print(evaluate_policy(model, env, n_eval_episodes=5, render=False))"
   ]
  }
 ],
 "metadata": {
  "interpreter": {
   "hash": "13f74e600e5db7500a78e4d27f86aa859591adaab4fefda8dd94987a559e0a34"
  },
  "kernelspec": {
   "display_name": "Python 3 (ipykernel)",
   "language": "python",
   "name": "python3"
  },
  "language_info": {
   "codemirror_mode": {
    "name": "ipython",
    "version": 3
   },
   "file_extension": ".py",
   "mimetype": "text/x-python",
   "name": "python",
   "nbconvert_exporter": "python",
   "pygments_lexer": "ipython3",
   "version": "3.7.12"
  }
 },
 "nbformat": 4,
 "nbformat_minor": 4
}
